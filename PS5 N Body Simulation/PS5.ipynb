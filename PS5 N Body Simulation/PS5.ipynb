{
 "cells": [
  {
   "cell_type": "code",
   "execution_count": 1,
   "id": "16af4ad0",
   "metadata": {},
   "outputs": [],
   "source": [
    "# Problem Set #5\n",
    "# Dennis Cruz dec2174\n",
    "# Collaborators: Edward Sanchez, es2903\n",
    "\n",
    "# Other Resources used:\n",
    "# N-Body using RK4: https://prappleizer.github.io/Tutorials/RK4/RK4_Tutorial.html\n",
    "# N-Body Simulation https://github.com/pmocz/nbody-python/blob/master/nbody.py"
   ]
  },
  {
   "cell_type": "code",
   "execution_count": 2,
   "id": "b908c5dc",
   "metadata": {},
   "outputs": [
    {
     "data": {
      "text/plain": [
       "\"\\n%matplotlib inline\\n# Make displayed plots larger\\nplt.rcParams['figure.figsize'] = [18, 11]\\nplt.rc('axes', labelsize=13)\\nplt.rc('axes', titlesize=16)\\nplt.rc('legend', fontsize = 12) \""
      ]
     },
     "execution_count": 2,
     "metadata": {},
     "output_type": "execute_result"
    }
   ],
   "source": [
    "import matplotlib.pyplot as plt\n",
    "import numpy as np\n",
    "import matplotlib.pyplot as plt\n",
    "import math as m\n",
    "\"\"\"\n",
    "%matplotlib inline\n",
    "# Make displayed plots larger\n",
    "plt.rcParams['figure.figsize'] = [18, 11]\n",
    "plt.rc('axes', labelsize=13)\n",
    "plt.rc('axes', titlesize=16)\n",
    "plt.rc('legend', fontsize = 12) \"\"\""
   ]
  },
  {
   "cell_type": "code",
   "execution_count": 3,
   "id": "ca6ddd0e",
   "metadata": {},
   "outputs": [],
   "source": [
    "# Problem 1\n",
    "# Write an N-body code for integratin solar system dynamics\n",
    "\n",
    "# Using RK4:\n",
    "\n",
    "def RungeKuttaCoupled(x, y, z, dx, dydx, dzdx):\n",
    "    \n",
    "    # Calculate Slopes\n",
    "    k1 = dx*dydx(x, y, z)\n",
    "    h1 = dx*dzdx(x, y, z)\n",
    "    k2 = dx*dydx(x+dx/2., y+k1/2., z+h1/2.)\n",
    "    h2 = dx*dzdx(x+dx/2., y+k1/2., z+h1/2.)\n",
    "    k3 = dx*dydx(x+dx/2., y+k2/2., z+h2/2.)\n",
    "    h3 = dx*dzdx(x+dx/2., y+k2/2., z+h2/2.)\n",
    "    k4 = dx*dydx(x+dx, y+k3, z+h3)\n",
    "    h4 = dx*dzdx(x+dx, y+k3, z+h3)\n",
    "    \n",
    "    # Calculates new x, y and z\n",
    "    y = y + 1./6.*(k1+2*k2+2*k3+k4)\n",
    "    z = z + 1./6.*(h1+2*h2+2*h3+h4)\n",
    "    x = x + dx\n",
    "    \n",
    "    return x, y, z\n"
   ]
  },
  {
   "cell_type": "code",
   "execution_count": 4,
   "id": "3dcee4f6",
   "metadata": {},
   "outputs": [],
   "source": [
    "# Defining known values and constants:\n",
    "\n",
    "# values in kg and m\n",
    "mass_Earth   = 5.97219e24\n",
    "mass_Sun     = 1.989e30\n",
    "radius_Earth = 6.371e6 \n",
    "radius_Sun   = 6.957e8\n",
    "E_orbital_r  = 149.6e9\n",
    "G            = 6.674e-11\n",
    "\n",
    "def circular_orbit (G, m, r):\n",
    "    \n",
    "    # G is the gravitational constant\n",
    "    # m is the mass of the more massive object\n",
    "    # r is the orbital radius in meters\n",
    "    \n",
    "    Vc = np.sqrt(G * m / float(r))\n",
    "    return Vc"
   ]
  },
  {
   "cell_type": "code",
   "execution_count": 5,
   "id": "da25476d",
   "metadata": {},
   "outputs": [
    {
     "name": "stdout",
     "output_type": "stream",
     "text": [
      "29788.22982930735\n"
     ]
    }
   ],
   "source": [
    "# Obtaining Vcs for Earth and Sun (testing Circular Orbit)\n",
    "\n",
    "Vc_Earth = circular_orbit(G, mass_Sun, E_orbital_r)\n",
    "# Vc_Sun   = circular_orbit(G, mass_Sun,   E_orbital_r) just a test, it should start at 0\n",
    "\n",
    "print (Vc_Earth)"
   ]
  },
  {
   "cell_type": "code",
   "execution_count": 6,
   "id": "226a41ed",
   "metadata": {},
   "outputs": [],
   "source": [
    "# Obtaining acceleration through Direct Summation\n",
    "\n",
    "def acceleration (body_1, body_2, m): #Earth is body_1, Sun is body_2\n",
    "    \n",
    "    # Getting magnitudes:\n",
    "    mag_bodies = np.sqrt ((body_2[0] - body_1[0])**2 + (body_2[1] - body_1[0])**2)\n",
    "    \n",
    "    # Acceleration formula:\n",
    "    acc_sum = (G * m * (body_2 - body_1)) / float((mag_bodies)**3) \n",
    "    \n",
    "    return acc_sum"
   ]
  },
  {
   "cell_type": "code",
   "execution_count": 7,
   "id": "e30dc29f",
   "metadata": {},
   "outputs": [],
   "source": [
    "# Test of acceleration function:\n",
    "\n",
    "#j = 2\n",
    "#for i in range(1, 5):\n",
    " #   for j in range(2,6):\n",
    "  #      pos_Sun[0], pos_Sun[1] = j, j\n",
    "   #     pos_Earth[0], pos_Earth[1] = i, i\n",
    "    #    print (pos_Sun, pos_Earth)\n",
    "     #   if i != j:\n",
    "      #      print (acceleration(pos_Earth, pos_Sun, mass_Sun))\n",
    "        \n",
    "# Error occurs because of division by 0"
   ]
  },
  {
   "cell_type": "code",
   "execution_count": 8,
   "id": "3e7a18b0",
   "metadata": {},
   "outputs": [],
   "source": [
    "# Defining ODEs:\n",
    "\n",
    "def dxdt (t, x, v):                          # returns position\n",
    "    return v \n",
    "\n",
    "def dvdt (t, x, v):                          # returns velocity\n",
    "    return acceleration (body_1, body_2, m)                                 "
   ]
  },
  {
   "cell_type": "code",
   "execution_count": 9,
   "id": "b78bb2a0",
   "metadata": {},
   "outputs": [],
   "source": [
    "# Initial Conditions:\n",
    "\n",
    "# Time of integration:\n",
    "t0 = 0\n",
    "dt = 1000\n",
    "t_end = 5.77e8 # 5 orbital periods, 5 years in secods \n",
    "\n",
    "# Initial Positions:\n",
    "\n",
    "array_pos = np.zeros((2,2))\n",
    "\n",
    "array_pos [0, 0] = E_orbital_r    # distance from Sun to Earth\n",
    "pos_Earth = array_pos[0]\n",
    "pos_Sun = array_pos[1]\n",
    "\n",
    "# Initial Velocities:\n",
    "\n",
    "array_vel = np.zeros((2,2))\n",
    "array_vel [0,1] = (circular_orbit(G, mass_Sun, E_orbital_r)) # velocity in x = 0; y = circular orbit\n",
    "vel_Earth = array_vel[0]\n",
    "vel_Sun = array_vel[1]\n",
    "\n",
    "# Initial accelerations from acceleration function\n",
    "\n"
   ]
  },
  {
   "cell_type": "code",
   "execution_count": 10,
   "id": "b0a1be87",
   "metadata": {},
   "outputs": [],
   "source": [
    "# Running RK4 for both position and velocity\n",
    "\n",
    "time_li      = [t0]\n",
    "Earth_pos_li = [pos_Earth]\n",
    "Earth_vel_li = [vel_Earth]\n",
    "\n",
    "Sun_pos_li = [pos_Sun]\n",
    "Sun_vel_li = [vel_Sun]\n",
    "\n",
    "\n",
    "t = t0\n",
    "v = array_vel\n",
    "x = array_pos\n",
    "\n",
    "body_1 = pos_Earth\n",
    "body_2 = pos_Sun\n",
    "m = mass_Sun\n",
    "\n",
    "while t <= t_end:\n",
    "    \n",
    "    t, x, v = RungeKuttaCoupled(t, x, v, dt, dxdt, dvdt)\n",
    "    Earth_pos_li.append(x[0])\n",
    "    Earth_vel_li.append(v[0])\n",
    "    Sun_pos_li.append(x[1])\n",
    "    Sun_vel_li.append(v[1])\n",
    "    time_li.append(t)\n",
    "    \n",
    "    \n",
    "    \n",
    "   # print (t,'\\n', v, '\\n', x,'\\n','\\n', dvdt(t,v,x))\n"
   ]
  },
  {
   "cell_type": "code",
   "execution_count": 11,
   "id": "38c00a07",
   "metadata": {},
   "outputs": [],
   "source": [
    "# Plotting x and y positions over time\n",
    "\n",
    "def Position_plot (pos_body1, pos_body2, pos_body_3):\n",
    "    plt.title(\"Earth and Sun position\")\n",
    "    plt.plot(pos_body1, label=\"Earth Position\", color=\"blue\")\n",
    "    plt.plot(pos_body2, label=\"Sun Position\", color=\"green\")\n",
    "    plt.xlabel(\"Time\")\n",
    "    plt.ylabel(\"Position\")\n",
    "    plt.yscale('log')\n",
    "    plt.xscale('log')\n",
    "    plt.legend(loc=\"best\")\n",
    "    plt.show()\n",
    "    return"
   ]
  },
  {
   "cell_type": "code",
   "execution_count": 12,
   "id": "9a971d29",
   "metadata": {},
   "outputs": [
    {
     "data": {
      "image/png": "[encoded data removed]",
      "text/plain": [
       "<Figure size 640x480 with 1 Axes>"
      ]
     },
     "metadata": {},
     "output_type": "display_data"
    }
   ],
   "source": [
    "Position_plot (Earth_pos_li, Sun_pos_li, 0)"
   ]
  },
  {
   "cell_type": "code",
   "execution_count": 13,
   "id": "94373052",
   "metadata": {},
   "outputs": [
    {
     "data": {
      "text/plain": [
       "[array([1.496e+11, 0.000e+00]),\n",
       " array([1.49599999e+11, 2.97882298e+07]),\n",
       " array([1.49599996e+11, 5.95764597e+07]),\n",
       " array([1.49599991e+11, 8.93646895e+07]),\n",
       " array([1.49599983e+11, 1.19152919e+08]),\n",
       " array([1.49599974e+11, 1.48941149e+08]),\n",
       " array([1.49599962e+11, 1.78729379e+08]),\n",
       " array([1.49599949e+11, 2.08517609e+08]),\n",
       " array([1.49599933e+11, 2.38305839e+08]),\n",
       " array([1.49599915e+11, 2.68094068e+08]),\n",
       " array([1.49599895e+11, 2.97882298e+08]),\n",
       " array([1.49599873e+11, 3.27670528e+08]),\n",
       " array([1.49599849e+11, 3.57458758e+08]),\n",
       " array([1.49599823e+11, 3.87246988e+08]),\n",
       " array([1.49599794e+11, 4.17035218e+08]),\n",
       " array([1.49599764e+11, 4.46823447e+08]),\n",
       " array([1.49599732e+11, 4.76611677e+08]),\n",
       " array([1.49599697e+11, 5.06399907e+08]),\n",
       " array([1.49599660e+11, 5.36188137e+08]),\n",
       " array([1.49599621e+11, 5.65976367e+08]),\n",
       " array([1.49599581e+11, 5.95764597e+08]),\n",
       " array([1.49599538e+11, 6.25552826e+08]),\n",
       " array([1.49599493e+11, 6.55341056e+08]),\n",
       " array([1.49599445e+11, 6.85129286e+08]),\n",
       " array([1.49599396e+11, 7.14917516e+08]),\n",
       " array([1.49599345e+11, 7.44705746e+08]),\n",
       " array([1.49599291e+11, 7.74493976e+08]),\n",
       " array([1.49599236e+11, 8.04282205e+08]),\n",
       " array([1.49599178e+11, 8.34070435e+08]),\n",
       " array([1.49599118e+11, 8.63858665e+08]),\n",
       " array([1.49599056e+11, 8.93646895e+08]),\n",
       " array([1.49598992e+11, 9.23435125e+08]),\n",
       " array([1.49598926e+11, 9.53223355e+08]),\n",
       " array([1.49598858e+11, 9.83011584e+08]),\n",
       " array([1.49598788e+11, 1.01279981e+09]),\n",
       " array([1.49598716e+11, 1.04258804e+09]),\n",
       " array([1.49598641e+11, 1.07237627e+09]),\n",
       " array([1.49598565e+11, 1.10216450e+09]),\n",
       " array([1.49598486e+11, 1.13195273e+09]),\n",
       " array([1.49598405e+11, 1.16174096e+09]),\n",
       " array([1.49598322e+11, 1.19152919e+09]),\n",
       " array([1.49598237e+11, 1.22131742e+09]),\n",
       " array([1.49598150e+11, 1.25110565e+09]),\n",
       " array([1.49598061e+11, 1.28089388e+09]),\n",
       " array([1.49597970e+11, 1.31068211e+09]),\n",
       " array([1.49597877e+11, 1.34047034e+09]),\n",
       " array([1.49597781e+11, 1.37025857e+09]),\n",
       " array([1.49597684e+11, 1.40004680e+09]),\n",
       " array([1.49597584e+11, 1.42983503e+09]),\n",
       " array([1.49597482e+11, 1.45962326e+09]),\n",
       " array([1.49597379e+11, 1.48941149e+09]),\n",
       " array([1.49597273e+11, 1.51919972e+09]),\n",
       " array([1.49597165e+11, 1.54898795e+09]),\n",
       " array([1.49597055e+11, 1.57877618e+09]),\n",
       " array([1.49596942e+11, 1.60856441e+09]),\n",
       " array([1.49596828e+11, 1.63835264e+09]),\n",
       " array([1.49596712e+11, 1.66814087e+09]),\n",
       " array([1.49596593e+11, 1.69792910e+09]),\n",
       " array([1.49596473e+11, 1.72771733e+09]),\n",
       " array([1.49596350e+11, 1.75750556e+09]),\n",
       " array([1.49596225e+11, 1.78729379e+09]),\n",
       " array([1.49596098e+11, 1.81708202e+09]),\n",
       " array([1.49595969e+11, 1.84687025e+09]),\n",
       " array([1.49595838e+11, 1.87665848e+09]),\n",
       " array([1.49595705e+11, 1.90644671e+09]),\n",
       " array([1.49595570e+11, 1.93623494e+09]),\n",
       " array([1.49595433e+11, 1.96602317e+09]),\n",
       " array([1.49595293e+11, 1.99581140e+09]),\n",
       " array([1.49595152e+11, 2.02559963e+09]),\n",
       " array([1.49595008e+11, 2.05538786e+09]),\n",
       " array([1.49594862e+11, 2.08517609e+09]),\n",
       " array([1.49594714e+11, 2.11496432e+09]),\n",
       " array([1.49594564e+11, 2.14475255e+09]),\n",
       " array([1.49594412e+11, 2.17454078e+09]),\n",
       " array([1.49594258e+11, 2.20432901e+09]),\n",
       " array([1.49594102e+11, 2.23411724e+09]),\n",
       " array([1.49593944e+11, 2.26390547e+09]),\n",
       " array([1.49593783e+11, 2.29369370e+09]),\n",
       " array([1.49593621e+11, 2.32348193e+09]),\n",
       " array([1.49593456e+11, 2.35327016e+09]),\n",
       " array([1.49593289e+11, 2.38305839e+09]),\n",
       " array([1.49593121e+11, 2.41284662e+09]),\n",
       " array([1.49592950e+11, 2.44263485e+09]),\n",
       " array([1.49592777e+11, 2.47242308e+09]),\n",
       " array([1.49592602e+11, 2.50221131e+09]),\n",
       " array([1.49592424e+11, 2.53199954e+09]),\n",
       " array([1.49592245e+11, 2.56178777e+09]),\n",
       " array([1.49592064e+11, 2.59157600e+09]),\n",
       " array([1.49591880e+11, 2.62136422e+09]),\n",
       " array([1.49591695e+11, 2.65115245e+09]),\n",
       " array([1.49591507e+11, 2.68094068e+09]),\n",
       " array([1.49591317e+11, 2.71072891e+09]),\n",
       " array([1.49591125e+11, 2.74051714e+09]),\n",
       " array([1.49590931e+11, 2.77030537e+09]),\n",
       " array([1.49590735e+11, 2.80009360e+09]),\n",
       " array([1.49590537e+11, 2.82988183e+09]),\n",
       " array([1.49590337e+11, 2.85967006e+09]),\n",
       " array([1.49590134e+11, 2.88945829e+09]),\n",
       " array([1.49589930e+11, 2.91924652e+09]),\n",
       " array([1.49589723e+11, 2.94903475e+09])]"
      ]
     },
     "execution_count": 13,
     "metadata": {},
     "output_type": "execute_result"
    }
   ],
   "source": [
    "# Satellite orbit changes:\n",
    "Earth_pos_li[0:100]"
   ]
  },
  {
   "cell_type": "markdown",
   "id": "df610c08",
   "metadata": {},
   "source": [
    "Im not sure how to implement a condition in which position x also changes. Also, how to change the aceleration at each position using different masses."
   ]
  },
  {
   "cell_type": "code",
   "execution_count": 14,
   "id": "29786e91",
   "metadata": {},
   "outputs": [],
   "source": [
    "# Problem 2:\n",
    "\n",
    "# Getting orbit for Jupiter:\n",
    "\n",
    "def elliptical_velocity (G, a, m, e):\n",
    "    # V_tan = orbital velocity\n",
    "    # a = lenght of semimajor axis in meters\n",
    "    # e = eccentricity\n",
    "    # m = the mass of the more massive body\n",
    "    \n",
    "    V_tan = np.sqrt((G*m*(1+e))/(a*(1-e)))\n",
    "    \n",
    "    return V_tan\n",
    "def orbital_r(e, a):\n",
    "    r = (1-e)*a\n",
    "    return r"
   ]
  },
  {
   "cell_type": "code",
   "execution_count": 15,
   "id": "077cea80",
   "metadata": {},
   "outputs": [
    {
     "name": "stdout",
     "output_type": "stream",
     "text": [
      "29788.229829307355\n"
     ]
    }
   ],
   "source": [
    "# Getting orbit:\n",
    "\n",
    "# a = 5.984e11 (4 A.U)\n",
    "# e = 0.6\n",
    "Vc_Jupiter = elliptical_velocity(G, 5.984e11, mass_Sun, 0.6)\n",
    "print (Vc_Jupiter)"
   ]
  },
  {
   "cell_type": "markdown",
   "id": "381189e9",
   "metadata": {},
   "source": [
    "Same velocity as Earth velocity when it is tangential?"
   ]
  },
  {
   "cell_type": "code",
   "execution_count": 16,
   "id": "893fda43",
   "metadata": {},
   "outputs": [],
   "source": [
    "# Initial Conditions:\n",
    "\n",
    "a = 5.984e11 #(4 A.U)\n",
    "e = 0.6\n",
    "\n",
    "J_orbital_r = orbital_r(e, a)\n",
    "\n",
    "# Time of integration:\n",
    "t0 = 0\n",
    "dt = 100000\n",
    "t_end = 5.77e10 # 100 orbital periods, 100 years in seconds \n",
    "\n",
    "# Initial Positions:\n",
    "\n",
    "array_pos = np.zeros((3,2))\n",
    "\n",
    "array_pos [0, 0] = E_orbital_r    # distance from Sun to Earth\n",
    "array_pos [2, 0] = J_orbital_r    # Distance from Jupiter to Sun\n",
    "pos_Earth        = array_pos[0]\n",
    "pos_Sun          = array_pos[1]\n",
    "pos_Jupiter      = array_pos[2]\n",
    "\n",
    "# Initial Velocities:\n",
    "\n",
    "array_vel       = np.zeros((3,2))\n",
    "array_vel [0,1] = circular_orbit(G, mass_Sun, E_orbital_r) # velocity in x = 0; y = circular orbit\n",
    "array_vel [2,1] = elliptical_velocity (G, a, mass_Sun, e)\n",
    "vel_Earth       = array_vel[0]\n",
    "vel_Sun         = array_vel[1]\n",
    "vel_Jup         = array_vel[2]\n",
    "\n",
    "# Initial accelerations from acceleration function\n"
   ]
  },
  {
   "cell_type": "code",
   "execution_count": 17,
   "id": "78b8e18c",
   "metadata": {},
   "outputs": [],
   "source": [
    "# Running RK4 for both 3-body\n",
    "\n",
    "time_li      = [t0]\n",
    "Earth_pos_li = [pos_Earth]\n",
    "Earth_vel_li = [vel_Earth]\n",
    "\n",
    "Sun_pos_li = [pos_Sun]\n",
    "Sun_vel_li = [vel_Sun]\n",
    "\n",
    "Jup_pos_li = [pos_Jupiter]\n",
    "Jup_vel_li = [vel_Jup]\n",
    "\n",
    "t = t0\n",
    "v = array_vel\n",
    "x = array_pos\n",
    "\n",
    "body_1 = pos_Jupiter\n",
    "body_2 = pos_Sun\n",
    "m      = mass_Sun\n",
    "\n",
    "while t <= t_end:\n",
    "    \n",
    "    t, x, v = RungeKuttaCoupled(t, x, v, dt, dxdt, dvdt)\n",
    "    \n",
    "    Earth_pos_li.append(x[0])\n",
    "    Earth_vel_li.append(v[0])\n",
    "    \n",
    "    Sun_pos_li.append(x[1])\n",
    "    Sun_vel_li.append(v[1])\n",
    "    \n",
    "    Jup_pos_li.append(x[2])\n",
    "    Jup_vel_li.append(v[2])\n",
    "    \n",
    "    time_li.append(t)\n",
    "    \n",
    "    \n",
    "   # print (t,'\\n', v, '\\n', x,'\\n','\\n', dvdt(t,v,x))\n"
   ]
  },
  {
   "cell_type": "code",
   "execution_count": 18,
   "id": "91e8bd14",
   "metadata": {},
   "outputs": [
    {
     "data": {
      "image/png": "[encoded data removed]",
      "text/plain": [
       "<Figure size 640x480 with 1 Axes>"
      ]
     },
     "metadata": {},
     "output_type": "display_data"
    }
   ],
   "source": [
    "Position_plot(Earth_pos_li, Sun_pos_li, Jup_pos_li)"
   ]
  },
  {
   "cell_type": "code",
   "execution_count": null,
   "id": "7b8cecc3",
   "metadata": {},
   "outputs": [],
   "source": []
  }
 ],
 "metadata": {
  "kernelspec": {
   "display_name": "Python 3 (ipykernel)",
   "language": "python",
   "name": "python3"
  },
  "language_info": {
   "codemirror_mode": {
    "name": "ipython",
    "version": 3
   },
   "file_extension": ".py",
   "mimetype": "text/x-python",
   "name": "python",
   "nbconvert_exporter": "python",
   "pygments_lexer": "ipython3",
   "version": "3.11.4"
  }
 },
 "nbformat": 4,
 "nbformat_minor": 5
}
