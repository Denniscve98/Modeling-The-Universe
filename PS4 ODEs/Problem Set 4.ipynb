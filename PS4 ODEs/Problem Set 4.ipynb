{
 "cells": [
  {
   "cell_type": "code",
   "execution_count": null,
   "id": "41887fe7",
   "metadata": {},
   "outputs": [],
   "source": [
    "# Problem Set #4\n",
    "# Dennis Cruz dec2174\n",
    "# Collaborators: Edward Sanchez, es2903\n",
    "\n",
    "# Other Resources used:\n",
    "# Runge Kutta Method: https://primer-computational-mathematics.github.io/book/c_mathematics/numerical_methods/5_Runge_Kutta_method.html\n",
    "# Python Classes and Objects: https://www.geeksforgeeks.org/python-classes-and-objects/"
   ]
  },
  {
   "cell_type": "code",
   "execution_count": 1,
   "id": "75197619",
   "metadata": {},
   "outputs": [],
   "source": [
    "# Problem #1\n",
    "\n",
    "import matplotlib.pyplot as plt\n",
    "import numpy as np\n"
   ]
  },
  {
   "cell_type": "code",
   "execution_count": 2,
   "id": "730042f7",
   "metadata": {},
   "outputs": [
    {
     "name": "stdout",
     "output_type": "stream",
     "text": [
      "0.00349 33816.75401357129\n"
     ]
    }
   ],
   "source": [
    "# Defining Class for materials\n",
    "\n",
    "class materials:\n",
    "    \n",
    "    def __init__ (self, rho_0, c, n, Pc):\n",
    "        self.rho_0 = rho_0\n",
    "        self.c  = c\n",
    "        self.n  = n\n",
    "        self.Pc = Pc\n",
    "\n",
    "# Testing class:\n",
    "\n",
    "iron    = materials(8300, 0.00349, 0.528, 10e12)\n",
    "eq_test = 8300 + 0.00349*10e12**0.528  # just checking the value needed\n",
    "print (iron.c, eq_test)\n"
   ]
  },
  {
   "cell_type": "code",
   "execution_count": 4,
   "id": "ca920d64",
   "metadata": {},
   "outputs": [],
   "source": [
    "# Defining Runge_Kutta for Coupled ODEs\n",
    "\n",
    "def RungeKuttaCoupled(x, y, z, dx, dydx, dzdx):\n",
    "    \n",
    "    # Calculate Slopes\n",
    "    k1 = dx*dydx(x, y, z)\n",
    "    h1 = dx*dzdx(x, y, z)\n",
    "    k2 = dx*dydx(x+dx/2., y+k1/2., z+h1/2.)\n",
    "    h2 = dx*dzdx(x+dx/2., y+k1/2., z+h1/2.)\n",
    "    k3 = dx*dydx(x+dx/2., y+k2/2., z+h2/2.)\n",
    "    h3 = dx*dzdx(x+dx/2., y+k2/2., z+h2/2.)\n",
    "    k4 = dx*dydx(x+dx, y+k3, z+h3)\n",
    "    h4 = dx*dzdx(x+dx, y+k3, z+h3)\n",
    "    \n",
    "    # Calculates new x, y and z\n",
    "    y = y + 1./6.*(k1+2*k2+2*k3+k4)\n",
    "    z = z + 1./6.*(h1+2*h2+2*h3+h4)\n",
    "    x = x + dx\n",
    "    \n",
    "    return x, y, z\n",
    "\n"
   ]
  },
  {
   "cell_type": "code",
   "execution_count": 7,
   "id": "1d95a1ed",
   "metadata": {},
   "outputs": [
    {
     "name": "stdout",
     "output_type": "stream",
     "text": [
      "-3.1765478283758284e-06 199369.08043955878\n",
      "15865.28732582074\n"
     ]
    }
   ],
   "source": [
    "# Defining ODEs and equation of state:\n",
    "\n",
    "def rho (materials):\n",
    "    # initial_P = 10e12  # just to check the function worked\n",
    "    iron = materials(8300, 0.00349, 0.528, initial_P)\n",
    "    eq_state = iron.rho_0 + iron.c * iron.Pc**iron.n\n",
    "    return eq_state\n",
    "\n",
    "def dPdr (r, P, m):\n",
    "    P = (-(G * m * rho(materials)/float(r**2)))\n",
    "    return P\n",
    "\n",
    "def dmdr (r, P, m):\n",
    "    m = 4*(np.pi)*rho(materials)*(r**2)\n",
    "    return m\n",
    "\n",
    "# Testing functions:\n",
    "\n",
    "print (dPdr (1, 2, 3), dmdr (1, 2, 3))\n",
    "\n",
    "print (rho(materials)) # Same result as eq_test tested above\n"
   ]
  },
  {
   "cell_type": "code",
   "execution_count": 6,
   "id": "3e17c45d",
   "metadata": {},
   "outputs": [
    {
     "name": "stdout",
     "output_type": "stream",
     "text": [
      "15865.28732582074 2000\n"
     ]
    }
   ],
   "source": [
    "# Defining initial values\n",
    "\n",
    "G = 6.674e-11 # Gravitational constant\n",
    "delta_r      = 1000           # fraction of Earth radius in meters\n",
    "initial_r    = delta_r\n",
    "initial_P    = 1e12\n",
    "initial_rho  = rho(materials)\n",
    "initial_mass = 0\n",
    "final_r      = initial_r + delta_r # to have an initial value for the loop to run\n",
    "Earth_mass   = 5.97219e24       # in kilograms\n",
    "Earth_radius = 6.371e6          # in meters\n",
    "\n",
    "\n",
    "# Testing:\n",
    "\n",
    "print (initial_rho, final_r) # making sure it retrieves the same value"
   ]
  },
  {
   "cell_type": "code",
   "execution_count": 10,
   "id": "6b026c02",
   "metadata": {
    "scrolled": true
   },
   "outputs": [],
   "source": [
    "# Creating array and RK4 loop:\n",
    "\n",
    "radius_list   = [initial_r]\n",
    "pressure_list = [initial_P]\n",
    "mass_list     = [initial_mass]\n",
    "density_list  = [initial_rho]\n",
    "\n",
    "r = initial_r\n",
    "P = initial_P\n",
    "m = initial_mass\n",
    "\n",
    "while r != final_r:\n",
    "    r, P, m = RungeKuttaCoupled(r, P, m, delta_r, dPdr, dmdr)\n",
    "    \n",
    "    if P < 0: # Condiiton to stop loop when pressure goes negative\n",
    "        final_r = r\n",
    "    \n",
    "    else:\n",
    "        # Final radius and mass in terms of Earth's R & M\n",
    "        final_radius = r / Earth_radius\n",
    "        final_mass   = m / Earth_mass\n",
    "\n",
    "        # Appending values to lists\n",
    "        radius_list.append(final_radius)\n",
    "        pressure_list.append(P)\n",
    "        mass_list.append(final_mass)\n",
    "        density_list.append(rho(materials))\n",
    "\n",
    "        initial_P = P         # Changes the value in class(materials) for the next P)\n",
    "\n",
    "        final_r = r + final_r # Increases the value for the loop to continue running\n",
    "        #print (r, P, m)\n",
    "\n"
   ]
  },
  {
   "cell_type": "code",
   "execution_count": 11,
   "id": "a53549f0",
   "metadata": {},
   "outputs": [],
   "source": [
    "# Printing Values in terms of Earth Mass and Radius:\n",
    "\n",
    "#print (radius_list, '\\n', '\\n')\n",
    "#print (mass_list, '\\n', '\\n')\n",
    "#print (density_list)"
   ]
  },
  {
   "cell_type": "code",
   "execution_count": 12,
   "id": "af169d43",
   "metadata": {
    "scrolled": false
   },
   "outputs": [
    {
     "data": {
      "image/png": "[encoded data removed]",
      "text/plain": [
       "<Figure size 640x480 with 1 Axes>"
      ]
     },
     "metadata": {},
     "output_type": "display_data"
    }
   ],
   "source": [
    "# Plotting \n",
    "\n",
    "plt.title(\"Pressure vs radius\")\n",
    "plt.plot(pressure_list, label=\"Pressure\", color=\"orange\")\n",
    "plt.xlabel(\"Radius\")\n",
    "plt.ylabel(\"Pressure\")\n",
    "plt.legend(loc=\"best\")\n",
    "plt.show()"
   ]
  },
  {
   "cell_type": "code",
   "execution_count": 13,
   "id": "7b1b6168",
   "metadata": {},
   "outputs": [
    {
     "data": {
      "image/png": "[encoded data removed]",
      "text/plain": [
       "<Figure size 640x480 with 1 Axes>"
      ]
     },
     "metadata": {},
     "output_type": "display_data"
    }
   ],
   "source": [
    "plt.title(\"Density vs radius\")\n",
    "plt.plot(density_list, label=\"Density\", color=\"green\")\n",
    "plt.xlabel(\"Radius\")\n",
    "plt.ylabel(\"Density\")\n",
    "plt.legend(loc=\"best\")\n",
    "plt.show()"
   ]
  },
  {
   "cell_type": "code",
   "execution_count": null,
   "id": "470f6641",
   "metadata": {},
   "outputs": [],
   "source": [
    "# Final Result:\n",
    "\n",
    "print (\"Pressure goes to zero at:\")\n",
    "print (\"Final mass = \", final_mass)\n",
    "print (\"Final radius = \", final_radius)"
   ]
  },
  {
   "cell_type": "code",
   "execution_count": null,
   "id": "6a8afbd3",
   "metadata": {},
   "outputs": [],
   "source": [
    "# Problem 2\n",
    "# Integration for a range of central pressures for Fe\n",
    "\n",
    "total_radius_list  = [initial_r]\n",
    "total_mass_list    = [initial_mass]\n",
    "total_pressure_list = [initial_P]\n",
    "total_density_list  = [initial_rho]\n",
    "\n",
    "\n",
    "\n",
    "# Creating a loop for a range of pressures:\n",
    "\n",
    "for i in range (11, 31):          # Range of central pressures from 0.1 to 300 Earth Masses\n",
    "\n",
    "    # Resetting initial values\n",
    "\n",
    "    # G = 6.674e-11 # Gravitational constant\n",
    "    delta_r      = 1000            # fraction of Earth radius in meters\n",
    "    initial_r    = delta_r\n",
    "    initial_P    = 10**i\n",
    "    initial_rho  = rho(materials)\n",
    "    initial_mass = 0\n",
    "    final_r      = initial_r + delta_r # to have an initial value for the loop to run\n",
    "    Earth_mass   = 5.97219e24       # in kilograms\n",
    "    Earth_radius = 6.371e6          # in meters\n",
    "\n",
    "    r = initial_r\n",
    "    P = initial_P\n",
    "    m = initial_mass\n",
    "\n",
    "    while r != final_r:\n",
    "        r, P, m = RungeKuttaCoupled(r, P, m, delta_r, dPdr, dmdr)\n",
    "\n",
    "        if P < 0: # Condiiton to stop loop when pressure goes negative\n",
    "            final_r = r\n",
    "\n",
    "        else:\n",
    "            # Final radius and mass in terms of Earth's R & M\n",
    "            final_radius = r / Earth_radius\n",
    "            final_mass   = m / Earth_mass\n",
    "\n",
    "            initial_P = P         # Changes the value in class(materials) for the next P)\n",
    "\n",
    "            final_r = r + final_r # Increases the value for the loop to continue running\n",
    "    \n",
    "    total_radius_list.append(final_radius)\n",
    "    total_mass_list.append(final_mass)\n",
    "    \n",
    "    print (\"Total M and R at P = 10^\", i )\n",
    "    print (\"M =\", final_mass, \"R =\", final_radius, '\\n')\n",
    "    \n"
   ]
  },
  {
   "cell_type": "code",
   "execution_count": null,
   "id": "c4aa6e02",
   "metadata": {
    "scrolled": true
   },
   "outputs": [],
   "source": [
    "# Printing different M and R in terms of Earth Radius\n",
    "\n",
    "print (total_radius_list, '\\n' '\\n', total_mass_list)"
   ]
  },
  {
   "cell_type": "code",
   "execution_count": null,
   "id": "22074168",
   "metadata": {
    "scrolled": false
   },
   "outputs": [],
   "source": [
    "# Plotting\n",
    "\n",
    "#use log log for plotting\n",
    "plt.title(\"Relation between total mass M and outer radius R\")\n",
    "plt.plot(total_mass_list, label=\"Mass\", color=\"green\")\n",
    "plt.xlabel(\"Radius\")\n",
    "plt.ylabel(\"Mass\")\n",
    "plt.legend(loc=\"best\")\n",
    "plt.show()"
   ]
  },
  {
   "cell_type": "markdown",
   "id": "ec4251a6",
   "metadata": {},
   "source": [
    "I think it is harder to detect higher mass planets because they have a higher radius that would cover the star and we would not be able to see the flux"
   ]
  },
  {
   "cell_type": "code",
   "execution_count": null,
   "id": "0ca4f412",
   "metadata": {},
   "outputs": [],
   "source": [
    "# Problem 3\n",
    "# Defining values MgSiO3\n",
    "\n",
    "initial_p = 0\n",
    "\n",
    "def rho (materials):\n",
    "    # initial_P = 10e12  # just to check the function worked\n",
    "    mgsio3 = materials (4100., 0.00161, 0.541, initial_P)\n",
    "    eq_state = mgsio3.rho_0 + mgsio3.c * mgsio3.Pc**mgsio3.n\n",
    "    return eq_state\n",
    "\n",
    "\n",
    "# Running loops for each materials\n",
    "\n",
    "total_radius_list  = [initial_r]\n",
    "total_mass_list    = [initial_mass]\n",
    "total_pressure_list = [initial_P]\n",
    "total_density_list  = [initial_rho]\n",
    "\n",
    "# Creating a loop for a range of pressures:\n",
    "\n",
    "for i in range (11, 31):          # Range of central pressures from 0.1 to 300 Earth Masses\n",
    "\n",
    "    # Resetting initial values\n",
    "\n",
    "    # G = 6.674e-11 # Gravitational constant\n",
    "    delta_r      = 1000            # fraction of Earth radius in meters\n",
    "    initial_r    = delta_r\n",
    "    initial_P    = 10**i\n",
    "    initial_rho  = rho(materials)\n",
    "    initial_mass = 0\n",
    "    final_r      = initial_r + delta_r # to have an initial value for the loop to run\n",
    "    Earth_mass   = 5.97219e24       # in kilograms\n",
    "    Earth_radius = 6.371e6          # in meters\n",
    "\n",
    "    r = initial_r\n",
    "    P = initial_P\n",
    "    m = initial_mass\n",
    "\n",
    "    while r != final_r:\n",
    "        r, P, m = RungeKuttaCoupled(r, P, m, delta_r, dPdr, dmdr)\n",
    "\n",
    "        if P < 0: # Condiiton to stop loop when pressure goes negative\n",
    "            final_r = r\n",
    "\n",
    "        else:\n",
    "            # Final radius and mass in terms of Earth's R & M\n",
    "            final_radius = r / Earth_radius\n",
    "            final_mass   = m / Earth_mass\n",
    "\n",
    "            initial_P = P         # Changes the value in class(materials) for the next P)\n",
    "\n",
    "            final_r = r + final_r # Increases the value for the loop to continue running\n",
    "    \n",
    "    total_radius_list.append(final_radius)\n",
    "    total_mass_list.append(final_mass)\n",
    "    \n",
    "    print (\"Total M and R at P = 10^\", i )\n",
    "    print (\"M =\", final_mass, \"R =\", final_radius, '\\n')\n",
    "    \n"
   ]
  },
  {
   "cell_type": "code",
   "execution_count": null,
   "id": "f27f7d69",
   "metadata": {},
   "outputs": [],
   "source": [
    "# Printing different M and R in terms of Earth Radius\n",
    "\n",
    "print (total_radius_list, '\\n' '\\n', total_mass_list)"
   ]
  },
  {
   "cell_type": "code",
   "execution_count": null,
   "id": "cc1ca15b",
   "metadata": {},
   "outputs": [],
   "source": [
    "# Plotting\n",
    "\n",
    "#use log log for plotting\n",
    "plt.title(\"Relation between total mass M and outer radius R for MgSiO3\")\n",
    "plt.plot(total_mass_list, label=\"Mass\", color=\"green\")\n",
    "plt.xlabel(\"Radius\")\n",
    "plt.ylabel(\"Mass\")\n",
    "plt.legend(loc=\"best\")\n",
    "plt.show()"
   ]
  },
  {
   "cell_type": "code",
   "execution_count": null,
   "id": "f0728ee1",
   "metadata": {},
   "outputs": [],
   "source": [
    "# Defining values for H2O\n",
    "\n",
    "initial_p = 0\n",
    "\n",
    "def rho (materials):\n",
    "    # initial_P = 10e12  # just to check the function worked\n",
    "    h20    = materials (1460., 0.00311, 0.513, initial_p)\n",
    "    eq_state = h20.rho_0 + h20.c * h20.Pc**h20.n\n",
    "    return eq_state\n",
    "\n",
    "# Running loops for each materials\n",
    "\n",
    "total_radius_list  = [initial_r]\n",
    "total_mass_list    = [initial_mass]\n",
    "total_pressure_list = [initial_P]\n",
    "total_density_list  = [initial_rho]\n",
    "\n",
    "# Creating a loop for a range of pressures:\n",
    "\n",
    "for i in range (11, 16):          # Range of central pressures from 0.1 to 300 Earth Masses\n",
    "\n",
    "    # Resetting initial values\n",
    "\n",
    "    # G = 6.674e-11 # Gravitational constant\n",
    "    delta_r      = 1000            # fraction of Earth radius in meters\n",
    "    initial_r    = delta_r\n",
    "    initial_P    = 10**i\n",
    "    initial_rho  = rho(materials)\n",
    "    initial_mass = 0\n",
    "    final_r      = initial_r + delta_r # to have an initial value for the loop to run\n",
    "    Earth_mass   = 5.97219e24       # in kilograms\n",
    "    Earth_radius = 6.371e6          # in meters\n",
    "\n",
    "    r = initial_r\n",
    "    P = initial_P\n",
    "    m = initial_mass\n",
    "\n",
    "    while r != final_r:\n",
    "        r, P, m = RungeKuttaCoupled(r, P, m, delta_r, dPdr, dmdr)\n",
    "\n",
    "        if P < 0: # Condiiton to stop loop when pressure goes negative\n",
    "            final_r = r\n",
    "\n",
    "        else:\n",
    "            # Final radius and mass in terms of Earth's R & M\n",
    "            final_radius = r / Earth_radius\n",
    "            final_mass   = m / Earth_mass\n",
    "\n",
    "            initial_P = P         # Changes the value in class(materials) for the next P)\n",
    "\n",
    "            final_r = r + final_r # Increases the value for the loop to continue running\n",
    "    \n",
    "    total_radius_list.append(final_radius)\n",
    "    total_mass_list.append(final_mass)\n",
    "    \n",
    "    print (\"Total M and R at P = 10^\", i )\n",
    "    print (\"M =\", final_mass, \"R =\", final_radius, '\\n')"
   ]
  },
  {
   "cell_type": "code",
   "execution_count": null,
   "id": "4356aba9",
   "metadata": {},
   "outputs": [],
   "source": [
    "# Printing different M and R in terms of Earth Radius\n",
    "\n",
    "print (total_radius_list, '\\n' '\\n', total_mass_list)"
   ]
  },
  {
   "cell_type": "code",
   "execution_count": null,
   "id": "3f322530",
   "metadata": {},
   "outputs": [],
   "source": [
    "# Plotting\n",
    "\n",
    "#use log log for plotting\n",
    "plt.title(\"Relation between total mass M and outer radius R for H20\")\n",
    "plt.plot(total_mass_list, label=\"Mass\", color=\"green\")\n",
    "plt.xlabel(\"Radius\")\n",
    "plt.ylabel(\"Mass\")\n",
    "plt.legend(loc=\"best\")\n",
    "plt.show()"
   ]
  },
  {
   "cell_type": "code",
   "execution_count": null,
   "id": "ea4af382",
   "metadata": {},
   "outputs": [],
   "source": []
  }
 ],
 "metadata": {
  "kernelspec": {
   "display_name": "Python 3 (ipykernel)",
   "language": "python",
   "name": "python3"
  },
  "language_info": {
   "codemirror_mode": {
    "name": "ipython",
    "version": 3
   },
   "file_extension": ".py",
   "mimetype": "text/x-python",
   "name": "python",
   "nbconvert_exporter": "python",
   "pygments_lexer": "ipython3",
   "version": "3.11.5"
  }
 },
 "nbformat": 4,
 "nbformat_minor": 5
}
